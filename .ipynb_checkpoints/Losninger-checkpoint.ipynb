{
 "cells": [
  {
   "cell_type": "markdown",
   "id": "5eb80504-3533-4405-9b86-2dba0825ab83",
   "metadata": {},
   "source": [
    "# Løsning på oppgaver \n",
    "\n",
    "#### Oppgave 1) Hva er produkt av 4499 og 35?"
   ]
  },
  {
   "cell_type": "code",
   "execution_count": null,
   "id": "3633f7f6-8594-44c4-a9db-9cb9c6049546",
   "metadata": {},
   "outputs": [],
   "source": [
    "4499 * 35"
   ]
  },
  {
   "cell_type": "markdown",
   "id": "5f2173b9-6c68-4da1-a8bb-ce2a7568c1db",
   "metadata": {},
   "source": [
    "##### Oppgave 2) Lage et objekt med navnet ditt og skriv det ut"
   ]
  },
  {
   "cell_type": "code",
   "execution_count": null,
   "id": "ee6f44b1-ef3b-4353-8a5a-5ead3eff9484",
   "metadata": {},
   "outputs": [],
   "source": [
    "navn <- \"Aslaug\"\n",
    "navn"
   ]
  },
  {
   "cell_type": "markdown",
   "id": "9e49ad3c-4775-461d-8fba-615961de642b",
   "metadata": {},
   "source": [
    "#### 3) Slå opp hjelpfilen for funksjonen nchar"
   ]
  },
  {
   "cell_type": "code",
   "execution_count": null,
   "id": "74aaec52-3fe7-4b9f-ab62-1611f6c6b198",
   "metadata": {},
   "outputs": [],
   "source": [
    "?nchar"
   ]
  },
  {
   "cell_type": "markdown",
   "id": "0ea107af-09d1-480b-b9d1-d77fb16b2327",
   "metadata": {},
   "source": [
    "#### 4) Bruk funksjonen nchar for å se hvor mange bokstaver navnet ditt innholder"
   ]
  },
  {
   "cell_type": "code",
   "execution_count": null,
   "id": "9a6ebd7a-2c25-4484-ac53-2c6f0a7ea96f",
   "metadata": {},
   "outputs": [],
   "source": [
    "nchar(navn)"
   ]
  },
  {
   "cell_type": "markdown",
   "id": "0f460107-4b66-47b7-8f2b-c6c1378bb3f7",
   "metadata": {},
   "source": [
    "### Logiske setninger\n",
    "#### 5) Lage en vektor som inneholder tre forskjellige tall. Kalle listen antall_ansatte"
   ]
  },
  {
   "cell_type": "code",
   "execution_count": null,
   "id": "aa7d813d-f8a4-4651-85f0-91745c1b9353",
   "metadata": {},
   "outputs": [],
   "source": [
    "antall_ansatte <- c(11, 35, 4)"
   ]
  },
  {
   "cell_type": "markdown",
   "id": "65eae369-a1f0-4c32-a2cc-1256619c910b",
   "metadata": {},
   "source": [
    "#### 6) Skrive en test for å se hvilken i listen \"antall_ansatte\" er mindre enn 5."
   ]
  },
  {
   "cell_type": "code",
   "execution_count": null,
   "id": "4a8b68ff-65b7-42ca-a715-6c7850719fb9",
   "metadata": {},
   "outputs": [],
   "source": [
    "antall_ansatte < 5"
   ]
  },
  {
   "cell_type": "markdown",
   "id": "a15734dc-b665-4f8d-9c8d-487da496a26b",
   "metadata": {},
   "source": [
    "##### 7) Skrive en test for å se om nummer 9 er i listen antall_ansatte"
   ]
  },
  {
   "cell_type": "code",
   "execution_count": null,
   "id": "b39ae87b-b18c-4e09-973b-ff00a7519f0f",
   "metadata": {},
   "outputs": [],
   "source": [
    "9 %in% antall_ansatte"
   ]
  },
  {
   "cell_type": "markdown",
   "id": "01078aab-22de-4c3a-8c6f-c4533900d0c7",
   "metadata": {},
   "source": [
    "### Les inn datasett\n",
    "\n",
    "##### 8) Hente inn biblioteket tidyverse"
   ]
  },
  {
   "cell_type": "code",
   "execution_count": null,
   "id": "b9718396-8d20-49d2-95f4-5382a59531bd",
   "metadata": {},
   "outputs": [],
   "source": [
    "library(tidyverse)"
   ]
  },
  {
   "cell_type": "markdown",
   "id": "c9b751d1-1780-44bf-adbb-92bab22794ab",
   "metadata": {},
   "source": [
    "#### 8) Åpne datasett \"ytelser.csv\" uten å lese det inn. Hvilken skilletegn og desimaltegn brukes? "
   ]
  },
  {
   "cell_type": "markdown",
   "id": "a4195cfb-74f2-4c02-8a9d-10de0dd23818",
   "metadata": {},
   "source": [
    "#### 9) Les inn datasett \"ytelser.csv\""
   ]
  },
  {
   "cell_type": "code",
   "execution_count": null,
   "id": "79f62344-712c-43fe-ba35-5445c79d98f5",
   "metadata": {},
   "outputs": [],
   "source": [
    "ytelser <- read_csv2(\"ytelser.csv\")"
   ]
  },
  {
   "cell_type": "markdown",
   "id": "e554c7a0-f95a-4085-94ae-dcfeb6bacb2e",
   "metadata": {},
   "source": [
    "##### 10) Se på datasett. Hvor mange variabler har det?"
   ]
  },
  {
   "cell_type": "code",
   "execution_count": null,
   "id": "44716425-cfdc-4a6c-859d-54a22c07e84d",
   "metadata": {},
   "outputs": [],
   "source": [
    "glimpse(ytelser)"
   ]
  },
  {
   "cell_type": "markdown",
   "id": "29b62a19-5aaf-4b73-b935-9eefd6b2ee7a",
   "metadata": {},
   "source": [
    "##### 11) Hva slags type variabel er kommune_nr_navn?"
   ]
  },
  {
   "cell_type": "code",
   "execution_count": null,
   "id": "aad147bc-d211-4c6e-9bec-774e2027ebdf",
   "metadata": {},
   "outputs": [],
   "source": [
    "glimpse(ytelser)"
   ]
  },
  {
   "cell_type": "markdown",
   "id": "39587eec-ec77-499c-9397-cbc8604077d0",
   "metadata": {},
   "source": [
    "#### 12) Hva er gjennomsnittsverdi av variabel utbetalt_mill_kr?"
   ]
  },
  {
   "cell_type": "code",
   "execution_count": null,
   "id": "b6442f6c-5bed-4fe4-af2b-717729e988e7",
   "metadata": {},
   "outputs": [],
   "source": [
    "summary(ytelser)"
   ]
  },
  {
   "cell_type": "markdown",
   "id": "1a4e8e77-2e3f-4e26-9ac9-d26ed2dcb675",
   "metadata": {},
   "source": [
    "# Bruk av tidyverse til å bearbeide data\n",
    "#### 13) Lage en ny variabel med kommune nummer (4 siffer)\n",
    "Sjekk at den er lagret på datasett med glimpse()\n",
    "Hint: kommunenummer er de første 4 siffene i variabel kommune_nr_navn"
   ]
  },
  {
   "cell_type": "code",
   "execution_count": null,
   "id": "ca67370e-13ac-4b7f-aa5b-ec02870a1449",
   "metadata": {},
   "outputs": [],
   "source": [
    "ytelser <- ytelser %>%\n",
    "  mutate(kommune_nr = substr(kommune_nr_navn, 1, 4))\n",
    "\n",
    "glimpse(ytelser)"
   ]
  },
  {
   "cell_type": "markdown",
   "id": "0bf40dfb-a7f7-48d6-83b5-474deb33345d",
   "metadata": {},
   "source": [
    "#### 14) Lage en ny variabel med fylkesnummer. \n",
    "Hint: fylkenummer er de første 2 siffer i variabel fylke_nr_navn"
   ]
  },
  {
   "cell_type": "code",
   "execution_count": null,
   "id": "ae7f29da-2d66-479c-9d4d-1756056ecaaf",
   "metadata": {},
   "outputs": [],
   "source": [
    "ytelser <- ytelser %>%\n",
    "  mutate(fylke_nr = substr(fylke_nr_navn, 1, 2))\n",
    "\n",
    "glimpse(ytelser)"
   ]
  },
  {
   "cell_type": "markdown",
   "id": "f9a02965-fea9-4730-a0be-cee16b057c7f",
   "metadata": {},
   "source": [
    "#### 15 ) Bruk filter for å se hvor mye barnetrygd ble utbetalt i 2015 for Kongvinger \n",
    "Hint: Gammel kommunenummer var 0402, stoenadsomraade_gruppe er \"Barnetrygd\" og variabel utbetalt_mill_kr gis utbetalt verdi"
   ]
  },
  {
   "cell_type": "code",
   "execution_count": null,
   "id": "cdaef675-6f10-4790-8e23-bd679c6ee61c",
   "metadata": {},
   "outputs": [],
   "source": [
    "ytelser %>%\n",
    "  filter(kommune_nr == \"0402\", \n",
    "         stoenadsomraade == \"Barnetrygd\",\n",
    "         aar == 2015\n",
    "         ) %>%\n",
    "  select(utbetalt_mill_kr)\n"
   ]
  },
  {
   "cell_type": "markdown",
   "id": "a1fe118c-13da-47d6-b7d5-9eefb80d399b",
   "metadata": {},
   "source": [
    "#### 16) Hva er summen av alle ytelsene for Kongsvinger?"
   ]
  },
  {
   "cell_type": "code",
   "execution_count": null,
   "id": "8723bf50-1e1a-4255-9057-74676f700afa",
   "metadata": {},
   "outputs": [],
   "source": [
    "ytelser %>% \n",
    "  filter(kommune_nr == \"0402\") %>%\n",
    "  summarise(belop_mrd = sum(utbetalt_mill_kr)) "
   ]
  },
  {
   "cell_type": "markdown",
   "id": "6023f191-3695-48c1-ad4d-0437284b8cd1",
   "metadata": {},
   "source": [
    "#### 17) Hva er summen av alle ytelsene for Oslo per år?\n",
    "Hint: Kommmunenummer for Oslo er 0301"
   ]
  },
  {
   "cell_type": "code",
   "execution_count": null,
   "id": "5e5432cb-d61e-4fd5-bd60-670d76685299",
   "metadata": {},
   "outputs": [],
   "source": [
    "ytelser %>% \n",
    "  filter(kommune_nr == \"0301\") %>%\n",
    "  group_by(aar) %>% \n",
    "  summarise(belop_mrd = sum(utbetalt_mill_kr))\n"
   ]
  },
  {
   "cell_type": "markdown",
   "id": "deb7ce4b-ba70-4ea3-8877-cffcfddfcfe0",
   "metadata": {},
   "source": [
    "#### 18) Hvor mange forsekjllige type ytelser ble utbetalt i Oslo i 2014? (Som er i datasett)\n",
    "Hint: bruk funksjon n() innen summarise() for å teller antall rader"
   ]
  },
  {
   "cell_type": "code",
   "execution_count": null,
   "id": "acf19862-aefd-42e6-9ec9-226ba304599c",
   "metadata": {},
   "outputs": [],
   "source": [
    "ytelser %>% \n",
    "  filter(kommune_nr == \"0301\", aar == \"2014\") %>%\n",
    "  summarise(antall = n())"
   ]
  },
  {
   "cell_type": "markdown",
   "id": "647eeb36-9620-42bb-ac32-6bb76da211a0",
   "metadata": {},
   "source": [
    "### Kobling av data\n",
    "\n",
    "#### 19) Les inn filen befolkning.csv som ligger i data-mappe og se på datasettet med funksjonen glimpse\n",
    "Dette innholder befolking per kommune etter aldersgrupper"
   ]
  },
  {
   "cell_type": "code",
   "execution_count": null,
   "id": "0d0f3883-ef43-4cc2-8b46-1d386f1d4cf6",
   "metadata": {},
   "outputs": [],
   "source": [
    "befolkning <- read_csv2('befolkning.csv')\n",
    "glimpse(befolkning)"
   ]
  },
  {
   "cell_type": "markdown",
   "id": "1afb82eb-cdc7-4fc3-9698-7157d137abee",
   "metadata": {},
   "source": [
    "#### 20) Filter datasett så at det kun inneholder antall som er 65+ år per kommune\n",
    "Bruk select for å kun beholde variabler Region, value og Tid. \n",
    "Hint: aldergruppe for de 65+ år heter \"F65+\""
   ]
  },
  {
   "cell_type": "code",
   "execution_count": null,
   "id": "b7a9eebf-6656-41f0-bd0d-1b39a8f000b6",
   "metadata": {},
   "outputs": [],
   "source": [
    "befolkning <- befolkning %>%\n",
    "  filter(Alder == \"F65+\") %>%\n",
    "  select(Region, value, Tid)"
   ]
  },
  {
   "cell_type": "markdown",
   "id": "a095fa74-51a8-42eb-88ef-b6de27621e67",
   "metadata": {},
   "source": [
    "#### 21) Endre navn til variabel \"value\" til \"befolk65\""
   ]
  },
  {
   "cell_type": "code",
   "execution_count": null,
   "id": "3fe74f2e-a38f-4a7c-8b55-ecc9610ffde6",
   "metadata": {},
   "outputs": [],
   "source": [
    "befolkning <- befolkning %>%\n",
    "  rename(befolk65 = value)"
   ]
  },
  {
   "cell_type": "markdown",
   "id": "13249d84-5735-4544-bfe9-7845e07ec602",
   "metadata": {},
   "source": [
    "#### 22) Koble ytelser og befolkning datasett sammen ved kommunenummer og år som nøkkelvariabelBehold kun alle rader i ytelserdatasett\n",
    "\n",
    "Behold kun alle rader i ytelserdatasett"
   ]
  },
  {
   "cell_type": "code",
   "execution_count": null,
   "id": "43efaa1a-af49-4538-b899-6e09aefd4a6c",
   "metadata": {},
   "outputs": [],
   "source": [
    "ytelser <- left_join(ytelser, befolkning, by = c(\"kommune_nr\" = \"Region\", \"aar\" = \"Tid\"))\n",
    "summary(ytelser)"
   ]
  },
  {
   "cell_type": "markdown",
   "id": "38fa2db7-2bd2-4bd3-9fd9-c43c6a254998",
   "metadata": {},
   "source": [
    "### Figurer\n",
    "\n",
    "#### 23) Lage en linjediagram av total ytelser per år.\n",
    "Hint 1: linjedigarm er samme som punktdiagram men med geom_smooth. \n",
    "Hint 2: Gruppere først, deretter summere, og deretter plott"
   ]
  },
  {
   "cell_type": "code",
   "execution_count": null,
   "id": "d8729696-8ffb-43b9-916b-d3afffb84317",
   "metadata": {},
   "outputs": [],
   "source": [
    "ytelser %>% \n",
    "  group_by(aar) %>% \n",
    "  summarise(ytelser = sum(utbetalt_mill_kr)) %>% \n",
    "  ggplot(aes(x= aar, y = ytelser)) + \n",
    "    geom_line()"
   ]
  },
  {
   "cell_type": "markdown",
   "id": "98677ad9-7dbc-4069-bca0-9a61be57acc9",
   "metadata": {},
   "source": [
    "#### 24) Lage samme plott av ytelser men i milliarder (istedenfor millioner)\n",
    "Bruk + ylim(0,500) for å spesifisere y-akser skal være mellom 0 og 500"
   ]
  },
  {
   "cell_type": "code",
   "execution_count": null,
   "id": "cdd9dedd-d69e-4e36-b81c-5bb46f39c1cf",
   "metadata": {},
   "outputs": [],
   "source": [
    "ytelser %>% \n",
    "  group_by(aar) %>% \n",
    "  summarise(ytelser = sum(utbetalt_mill_kr)/1000) %>% \n",
    "  ggplot(aes(x= aar, y = ytelser)) + \n",
    "  geom_line() +\n",
    "  ylim(0, 500)"
   ]
  },
  {
   "cell_type": "markdown",
   "id": "13a677e4-8b7a-4372-b1d2-af7e98d198c8",
   "metadata": {},
   "source": [
    "#### 25) Lage samme plott av ytelser men legg til akse-navn som er mer meningsfult\n",
    "Hint 1: bruk xlab og ylab"
   ]
  },
  {
   "cell_type": "code",
   "execution_count": null,
   "id": "f923ff2a-7f9f-4a4a-a07c-bf55ef88eb90",
   "metadata": {},
   "outputs": [],
   "source": [
    "ytelser %>% \n",
    "  group_by(aar) %>% \n",
    "  summarise(ytelser = sum(utbetalt_mill_kr)/1000) %>% \n",
    "  ggplot(aes(x = aar, y = ytelser)) + \n",
    "  geom_line() +\n",
    "  xlab(\"år\") +\n",
    "  ylab(\"utbetalt ytelser (milliarder)\") + \n",
    "  ylim(0, 500)"
   ]
  },
  {
   "cell_type": "markdown",
   "id": "47e059cb-72a5-4a55-98e9-6b62e96ecf31",
   "metadata": {},
   "source": [
    "#### 26) Lage en ny linjediagram for ytelser per år farget etter stønadsområde.\n",
    "Lage det for Kongvinger Hint: siden datasett innholde utbetalt verdier per stønadsområde, trenger\n",
    "du ikke å oppsummere. Bruk aes(color = ) innen geom_line() til farger"
   ]
  },
  {
   "cell_type": "code",
   "execution_count": null,
   "id": "35b99d53-909f-47c6-b995-487e6038e161",
   "metadata": {},
   "outputs": [],
   "source": [
    "ytelser %>% \n",
    "  filter(kommune_nr == \"0402\")%>%\n",
    "  group_by(aar) %>% \n",
    "  ggplot(aes(x = aar, y = utbetalt_mill_kr)) + \n",
    "  geom_line(aes(color = stoenadsomraade))"
   ]
  },
  {
   "cell_type": "markdown",
   "id": "1f556475-c5f7-491d-b55e-a0d1a67d4144",
   "metadata": {},
   "source": [
    "#### 27) lage en punktdiagram av antall 65+ og utbetalt for stønadsområde \"Alderspensjon\" for 2015 og legg på en regresjonlinje"
   ]
  },
  {
   "cell_type": "code",
   "execution_count": null,
   "id": "405f47e3-61ed-43be-8e45-7ca8c8ddc36a",
   "metadata": {},
   "outputs": [],
   "source": [
    "ytelser %>%\n",
    "  filter(aar == 2015, stoenadsomraade == \"Alderspensjon\") %>%\n",
    "  ggplot(aes(x = befolk65, y = utbetalt_mill_kr)) + \n",
    "  geom_point() + \n",
    "  geom_smooth(method = \"lm\")"
   ]
  },
  {
   "cell_type": "code",
   "execution_count": null,
   "id": "97951842-4b15-417c-b117-7c6422912f0a",
   "metadata": {},
   "outputs": [],
   "source": []
  }
 ],
 "metadata": {
  "kernelspec": {
   "display_name": "R",
   "language": "R",
   "name": "ir"
  },
  "language_info": {
   "codemirror_mode": "r",
   "file_extension": ".r",
   "mimetype": "text/x-r-source",
   "name": "R",
   "pygments_lexer": "r",
   "version": "4.2.2"
  }
 },
 "nbformat": 4,
 "nbformat_minor": 5
}
