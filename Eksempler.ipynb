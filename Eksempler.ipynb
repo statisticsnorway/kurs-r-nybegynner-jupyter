{
 "cells": [
  {
   "cell_type": "markdown",
   "id": "40b7fe7a-4303-49a7-a7bb-f77d59cc841f",
   "metadata": {},
   "source": [
    "# Eksempler kode for grunnleggene kurs i R "
   ]
  },
  {
   "cell_type": "markdown",
   "id": "ef86ee36-dae2-4859-a48c-587b464b8675",
   "metadata": {},
   "source": [
    "### R som kalkulator"
   ]
  },
  {
   "cell_type": "code",
   "execution_count": null,
   "id": "8ba830b0-364d-4a30-ac36-3b4f677c38ba",
   "metadata": {},
   "outputs": [],
   "source": [
    "2 + 2"
   ]
  },
  {
   "cell_type": "code",
   "execution_count": null,
   "id": "1e09ea2c-9e1b-4924-9c4f-3aa34489518c",
   "metadata": {},
   "outputs": [],
   "source": [
    "25 * 4\n"
   ]
  },
  {
   "cell_type": "code",
   "execution_count": null,
   "id": "9737c04b-8693-4b12-86fa-0e28c4a7bb07",
   "metadata": {},
   "outputs": [],
   "source": [
    "# Et lite tall\n",
    "3E-3"
   ]
  },
  {
   "cell_type": "code",
   "execution_count": null,
   "id": "8ab12ed4-8982-4d48-bdbc-d9951a9b1488",
   "metadata": {},
   "outputs": [],
   "source": [
    "# Et stort tall\n",
    "3E3"
   ]
  },
  {
   "cell_type": "code",
   "execution_count": null,
   "id": "06399ef1-f121-4697-99a7-7ed21c06ae4d",
   "metadata": {},
   "outputs": [],
   "source": [
    "# log av et tall (natural)\n",
    "log(10)"
   ]
  },
  {
   "cell_type": "markdown",
   "id": "b94ff6d8-5f1b-4418-8cbb-22fdf60b43eb",
   "metadata": {},
   "source": [
    "### R som tekststreng"
   ]
  },
  {
   "cell_type": "code",
   "execution_count": null,
   "id": "72282eb4-4e8f-403c-ace1-74b628d7d798",
   "metadata": {},
   "outputs": [],
   "source": [
    "\"Hello, world!\""
   ]
  },
  {
   "cell_type": "code",
   "execution_count": null,
   "id": "6ef478d5-d32e-417f-91ef-fac1688f8b74",
   "metadata": {},
   "outputs": [],
   "source": [
    "# Lim to tekster sammen til en tekststreng\n",
    "paste(\"Hallo\", \"Aslaug\")"
   ]
  },
  {
   "cell_type": "code",
   "execution_count": null,
   "id": "1222016c-59db-4f8b-b34d-3dce5a229829",
   "metadata": {},
   "outputs": [],
   "source": [
    "# lime to tekser sammen til en tekststreng med komma mellom\n",
    "paste(\"Hallo\", \"Aslaug\", sep = \", \")"
   ]
  },
  {
   "cell_type": "code",
   "execution_count": null,
   "id": "06b8841d-dee8-4fc9-95dd-252e64d873ea",
   "metadata": {},
   "outputs": [],
   "source": [
    "# lim tekst og tall sammen til en tekststreng\n",
    "paste(\"Aslaug er født i \", 1971, \" i Levanger\")"
   ]
  },
  {
   "cell_type": "code",
   "execution_count": null,
   "id": "1a9e702b-edce-4734-b911-eff8add59e01",
   "metadata": {},
   "outputs": [],
   "source": [
    "# Plukk ut noen character i en string\n",
    "substr(\"Susie liker kake\", 1, 5)\n"
   ]
  },
  {
   "cell_type": "markdown",
   "id": "44e6b19d-2491-4669-98be-2e19ba3f9f1f",
   "metadata": {},
   "source": [
    "### R som objekter"
   ]
  },
  {
   "cell_type": "code",
   "execution_count": null,
   "id": "a1e39bd4-f417-4f1e-a59e-6ea54e3ac2c5",
   "metadata": {},
   "outputs": [],
   "source": [
    "\n",
    "grunnlagt <- 1669\n",
    "grunnlagt\n"
   ]
  },
  {
   "cell_type": "code",
   "execution_count": null,
   "id": "5ca302d3-6e30-4816-8969-e719eb508660",
   "metadata": {},
   "outputs": [],
   "source": [
    "\n",
    "sted <- \"Kongsvinger Festning\"\n",
    "sted\n"
   ]
  },
  {
   "cell_type": "code",
   "execution_count": null,
   "id": "8af1f038-f89c-4f7e-abe2-4729dbabf666",
   "metadata": {},
   "outputs": [],
   "source": [
    "# Objekter kan overskrives\n",
    "grunnlagt <- grunnlagt + 1\n",
    "grunnlagt\n",
    "\n",
    "sted <- \"Oslo\"\n",
    "sted"
   ]
  },
  {
   "cell_type": "code",
   "execution_count": null,
   "id": "71b81c05-c1bc-41e4-871d-8153ee8aa988",
   "metadata": {},
   "outputs": [],
   "source": [
    "# Objekttype\n",
    "str(sted)\n",
    "str(grunnlagt)\n"
   ]
  },
  {
   "cell_type": "markdown",
   "id": "c3cf9515-ec8c-4796-953f-8b3fd0e270f1",
   "metadata": {},
   "source": [
    "### R som liste eller vektor"
   ]
  },
  {
   "cell_type": "code",
   "execution_count": null,
   "id": "859e5755-bc03-441b-a3d2-1e689163f29b",
   "metadata": {},
   "outputs": [],
   "source": [
    "\n",
    "# Eksempel på en numerisk vector \n",
    "aar <- c(2018, 2019, 2020)\n",
    "aar\n"
   ]
  },
  {
   "cell_type": "code",
   "execution_count": null,
   "id": "dfce9eb2-7f11-47e9-9e66-e1bbf6d13e82",
   "metadata": {},
   "outputs": [],
   "source": [
    "\n",
    "# Eksempel på en kategoriske vektor\n",
    "flere_sted <- c(\"Oslo\",\"Kongsvinger\", \"Rogaland\")\n",
    "flere_sted\n",
    "\n",
    "# Hvor mange er i vektoren\n",
    "length(flere_sted)\n"
   ]
  },
  {
   "cell_type": "markdown",
   "id": "5483c6b2-6f7a-4fbb-8ca9-8a9de7e76491",
   "metadata": {},
   "source": [
    "### Logiske setninger"
   ]
  },
  {
   "cell_type": "code",
   "execution_count": null,
   "id": "e2e15dd2-8cf4-4239-9c31-18333c2e4ac7",
   "metadata": {},
   "outputs": [],
   "source": [
    "grunnlagt == 1669\n",
    "grunnlagt == 1670\n",
    "aar == 2018"
   ]
  },
  {
   "cell_type": "code",
   "execution_count": null,
   "id": "6c8dd734-0bcd-4e25-9c5b-00a9940e1082",
   "metadata": {},
   "outputs": [],
   "source": [
    "#test for motsetninger\n",
    "2 != 3"
   ]
  },
  {
   "cell_type": "code",
   "execution_count": null,
   "id": "345d14f8-783d-4bfe-bea7-4302ba758bdd",
   "metadata": {},
   "outputs": [],
   "source": [
    "# test for innhold\n",
    "2018 %in% aar\n",
    "2015 %in% aar\n",
    "\n",
    "ifelse(sted == \"Oslo\", \"0301\", \"3401\")"
   ]
  },
  {
   "cell_type": "markdown",
   "id": "c5beb0e8-e1a4-46e7-b7bd-6395a61347bc",
   "metadata": {},
   "source": [
    "### Lage datasett"
   ]
  },
  {
   "cell_type": "code",
   "execution_count": null,
   "id": "8d64b6c0-f96f-4cf6-bfd4-7e9889dae3f8",
   "metadata": {},
   "outputs": [],
   "source": [
    "steddata <- data.frame(flere_sted, aar)\n",
    "steddata"
   ]
  },
  {
   "cell_type": "code",
   "execution_count": null,
   "id": "c4de1d6f-5aca-4a84-bbeb-eb8fd7c08bd6",
   "metadata": {},
   "outputs": [],
   "source": [
    "\n",
    "fylkedata <- data.frame(fylke = c(\"Viken\",  \"Innlandet\"), innbyggere = c(1241000, 371000))\n",
    "View(fylkedata)"
   ]
  },
  {
   "cell_type": "markdown",
   "id": "e0bbae92-66ea-4a7b-bbbc-6c8430309175",
   "metadata": {},
   "source": [
    "### Lese inn data"
   ]
  },
  {
   "cell_type": "code",
   "execution_count": null,
   "id": "05d771b4-89a0-40b5-9e1d-c818c70eaa3b",
   "metadata": {},
   "outputs": [],
   "source": [
    "#### Les inn csv fil ####\n",
    "library(tidyverse)\n",
    "\n",
    "# Datasett med komma skilletegn\n",
    "kommunedata <- read_csv(\"./data/kommunedata.csv\")\n",
    "\n",
    "kommunedata"
   ]
  },
  {
   "cell_type": "code",
   "execution_count": null,
   "id": "2bcfd7ef-354e-4a85-a478-7416c9480ae8",
   "metadata": {},
   "outputs": [],
   "source": [
    "# Datasett med ; skilletegn\n",
    "sykemeldingdata <- read_csv2(\"./data/sykemelding.csv\")\n",
    "View(sykemeldingdata)"
   ]
  },
  {
   "cell_type": "code",
   "execution_count": null,
   "id": "42f9ebda-7db2-45b4-940b-23a1c5541033",
   "metadata": {},
   "outputs": [],
   "source": [
    "#### Les inn SAS-fil ####\n",
    "library(haven)\n",
    "trygd <- read_sas(\"./data/trygd.sas7bdat\")\n",
    "View(trygd)\n",
    "\n",
    "?read_sas"
   ]
  },
  {
   "cell_type": "markdown",
   "id": "4cf24e95-d30a-4431-aea1-b256502cc8e7",
   "metadata": {},
   "source": [
    "### Ser næremere på data"
   ]
  },
  {
   "cell_type": "code",
   "execution_count": null,
   "id": "77700a29-8554-453e-b7b1-5ccb0adc670e",
   "metadata": {},
   "outputs": [],
   "source": [
    "glimpse(kommunedata)"
   ]
  },
  {
   "cell_type": "code",
   "execution_count": null,
   "id": "b1b3b599-5f8c-47f0-b4ad-ef2774e4f701",
   "metadata": {},
   "outputs": [],
   "source": [
    "summary(kommunedata)"
   ]
  },
  {
   "cell_type": "code",
   "execution_count": null,
   "id": "8dd5cad5-6e31-4c44-b170-f4a4d90f272c",
   "metadata": {},
   "outputs": [],
   "source": [
    "names(kommunedata)"
   ]
  },
  {
   "cell_type": "markdown",
   "id": "67ed58c7-4e43-46af-8847-432f1e0310b5",
   "metadata": {},
   "source": [
    "## Databearbeiding i R tidyverse"
   ]
  },
  {
   "cell_type": "markdown",
   "id": "c76790a6-1d18-42c4-9b1d-6833e9b89ed4",
   "metadata": {},
   "source": [
    "### Ny variabel - mutate"
   ]
  },
  {
   "cell_type": "code",
   "execution_count": null,
   "id": "89e91c42-9347-45ad-b86b-02a98d262d85",
   "metadata": {},
   "outputs": [],
   "source": [
    "# Lage en ny variabel og log bruttointekt\n",
    "kommunedata <- kommunedata %>%\n",
    "  mutate(log_bruttoinnt = log(bruttoinnt + 1))\n",
    "glimpse(kommunedata)\n"
   ]
  },
  {
   "cell_type": "code",
   "execution_count": null,
   "id": "82622e53-2015-4185-a590-ae738b78bfbe",
   "metadata": {},
   "outputs": [],
   "source": [
    "# Lage en variabel med ifelse\n",
    "kommunedata <- kommunedata %>%\n",
    "  mutate(region_type = ifelse(nchar(region) == 4, \"kommune\", \"andre\"))\n"
   ]
  },
  {
   "cell_type": "code",
   "execution_count": null,
   "id": "a96f9049-5516-4864-b5ec-58d4a7dce7de",
   "metadata": {},
   "outputs": [],
   "source": [
    "# Endre variabeltype for tid\n",
    "kommunedata <- kommunedata %>%\n",
    "  mutate(tid = as.character(tid),\n",
    "         kjonn = as.character(kjonn))"
   ]
  },
  {
   "cell_type": "markdown",
   "id": "700faf8b-2823-48c0-a734-6a792b954692",
   "metadata": {},
   "source": [
    "### Selektere ut rader"
   ]
  },
  {
   "cell_type": "code",
   "execution_count": null,
   "id": "ec9b21b4-6738-4c5f-818b-a55352440e64",
   "metadata": {},
   "outputs": [],
   "source": [
    "# ser på data fra hele Norge\n",
    "kommunedata %>%\n",
    "  filter(region == \"0\")"
   ]
  },
  {
   "cell_type": "code",
   "execution_count": null,
   "id": "66c99ec1-d352-4f05-b4d5-eb0e479f9b24",
   "metadata": {},
   "outputs": [],
   "source": [
    "# Ser på data fra årene 2016 og 2017\n",
    "kommunedata %>%\n",
    "  filter(tid %in% c(\"2016\", \"2017\"))"
   ]
  },
  {
   "cell_type": "code",
   "execution_count": null,
   "id": "ef093166-6401-40c6-bba6-ae8528a3aa91",
   "metadata": {},
   "outputs": [],
   "source": [
    "# Ser på data fra hele Norge for 2018\n",
    "kommunedata %>%\n",
    "  filter(region == \"0\", tid == \"2017\")\n"
   ]
  },
  {
   "cell_type": "markdown",
   "id": "5efc7652-a8e9-4773-b975-bdccae1471d9",
   "metadata": {},
   "source": [
    "### Velge noen variabler"
   ]
  },
  {
   "cell_type": "code",
   "execution_count": null,
   "id": "c9b5cbf1-9017-44fb-8787-77514d4122fd",
   "metadata": {},
   "outputs": [],
   "source": [
    "#### Velg ut noen variabler ####\n",
    "kommunedata %>%\n",
    "  select(region, kjonn, tid, folkemengde)\n",
    "\n",
    "\n",
    "kommunedata %>%\n",
    "  filter(region == \"0\", kjonn == 2) %>%\n",
    "  select(tid, bruttoinnt)\n"
   ]
  },
  {
   "cell_type": "markdown",
   "id": "94892b52-ea9a-46f3-a947-cdb96a2ac151",
   "metadata": {},
   "source": [
    "### Aggregering - gjennomsnitt - antall"
   ]
  },
  {
   "cell_type": "code",
   "execution_count": null,
   "id": "0647b5f8-8f3f-468c-8703-1301f06bc7c5",
   "metadata": {},
   "outputs": [],
   "source": [
    "kommunedata %>%\n",
    "  summarise(average = mean(folkemengde))"
   ]
  },
  {
   "cell_type": "code",
   "execution_count": null,
   "id": "ec08692b-1c58-4b19-ad3f-592f91bc4b6b",
   "metadata": {},
   "outputs": [],
   "source": [
    "kommunedata %>%\n",
    "  filter(region_type == \"kommune\", kjonn == 1) %>%\n",
    "  summarise(ave_bruttoinnt = mean(bruttoinnt), antall = n())\n",
    "\n",
    "# NB: dette er gjennomsnitt og antall for alle årene!"
   ]
  },
  {
   "cell_type": "markdown",
   "id": "bbe69da5-79ce-4b63-b820-570f458e3291",
   "metadata": {},
   "source": [
    "### Gruppering"
   ]
  },
  {
   "cell_type": "code",
   "execution_count": null,
   "id": "e4ed42d2-6dc2-44fc-a0b7-49426bea6634",
   "metadata": {},
   "outputs": [],
   "source": [
    "#### Gruppering ####\n",
    "kommunedata %>%\n",
    "  filter(region_type == \"kommune\", kjonn == 1) %>%\n",
    "  group_by(tid) %>%\n",
    "  summarise(ave_bruttoinnt = mean(bruttoinnt), antall = n())"
   ]
  },
  {
   "cell_type": "code",
   "execution_count": null,
   "id": "0ecd91c0-b688-4935-aa87-47f56dfadc57",
   "metadata": {},
   "outputs": [],
   "source": [
    "# antall kommune etter år og kjønn\n",
    "kommunedata %>%\n",
    "  filter(region_type == \"kommune\") %>%\n",
    "  group_by(tid, kjonn) %>%\n",
    "  summarise(antall = n()) "
   ]
  },
  {
   "cell_type": "code",
   "execution_count": null,
   "id": "24a2be83-340e-4e81-84c3-4aab0a5ccbd6",
   "metadata": {},
   "outputs": [],
   "source": [
    "\n",
    "kommunedata %>%\n",
    "  filter(region_type == \"kommune\") %>%\n",
    "  group_by(tid, kjonn) %>%\n",
    "  summarise(antall = n()) %>%\n",
    "  spread(tid, antall)\n"
   ]
  },
  {
   "cell_type": "code",
   "execution_count": null,
   "id": "4c191463-d851-4750-afc7-eb2ec6ad99d8",
   "metadata": {},
   "outputs": [],
   "source": [
    "#### Endre variabelnavn ####\n",
    "kommunedata %>%\n",
    "  rename(aar = tid)\n"
   ]
  },
  {
   "cell_type": "markdown",
   "id": "3a3bad66-16cd-44f2-a6e3-468b56595c85",
   "metadata": {},
   "source": [
    "### Koble datasett"
   ]
  },
  {
   "cell_type": "code",
   "execution_count": null,
   "id": "c31a5c3a-bb25-4181-a71d-348712af68b3",
   "metadata": {},
   "outputs": [],
   "source": [
    "library(haven)\n",
    "trygd <- read_sas(\"./data/trygd.sas7bdat\")\n",
    "\n",
    "\n",
    "# Endrenavn i trygd datasett\n",
    "names(trygd)\n",
    "trygd <- trygd %>%\n",
    "  rename(region = Region,\n",
    "         kjonn = Kjonn,\n",
    "         tid = Tid\n",
    "  )\n",
    "glimpse(trygd)\n"
   ]
  },
  {
   "cell_type": "code",
   "execution_count": null,
   "id": "9651bde5-4fa6-4490-94bf-88918f9a2c93",
   "metadata": {},
   "outputs": [],
   "source": [
    "# koble\n",
    "kommunedata <- left_join(kommunedata, trygd, by = c(\"region\", \"tid\", \"kjonn\")) \n",
    "glimpse(kommunedata)"
   ]
  },
  {
   "cell_type": "markdown",
   "id": "ee8f6a29-4a36-46ef-917a-90ba3b69aca9",
   "metadata": {},
   "source": [
    "### Grafikk med ggplot"
   ]
  },
  {
   "cell_type": "code",
   "execution_count": null,
   "id": "26b8a2f2-1ea6-4e8b-b37d-d66b69aa48cc",
   "metadata": {},
   "outputs": [],
   "source": [
    "#### Søylediagram ####\n",
    "kommunedata %>% ggplot(aes(kjonn)) + \n",
    "  geom_bar()"
   ]
  },
  {
   "cell_type": "code",
   "execution_count": null,
   "id": "886e89bd-fe61-4bc1-8888-2f98bf1b2a64",
   "metadata": {},
   "outputs": [],
   "source": [
    "# Antall uforetrygd etter kjønn\n",
    "kommunedata %>%\n",
    "  ggplot(aes(x = kjonn, y = UforetygdPers)) +\n",
    "  geom_bar(stat = \"identity\")"
   ]
  },
  {
   "cell_type": "code",
   "execution_count": null,
   "id": "12735db6-109f-4ed3-bcac-904f34834ccf",
   "metadata": {},
   "outputs": [],
   "source": [
    "# Endre format på y-aksen\n",
    "kommunedata %>%\n",
    "  ggplot(aes(x = kjonn, y = UforetygdPers)) +\n",
    "  geom_bar(stat = \"identity\") +\n",
    "  scale_y_continuous(labels = scales::comma)\n"
   ]
  },
  {
   "cell_type": "code",
   "execution_count": null,
   "id": "595d35c9-273a-4655-8970-cddb2674813e",
   "metadata": {},
   "outputs": [],
   "source": [
    "# Vise forskjellige år\n",
    "kommunedata %>%\n",
    "  ggplot(aes(x = kjonn, y = UforetygdPers, fill = tid)) +\n",
    "  geom_bar(stat = \"identity\") +\n",
    "  scale_y_continuous(labels = scales::comma) "
   ]
  },
  {
   "cell_type": "code",
   "execution_count": null,
   "id": "94c703bf-aacb-4ed1-ac29-7f0971217df5",
   "metadata": {},
   "outputs": [],
   "source": [
    "# Vise forskjellige år ved siden\n",
    "kommunedata %>%\n",
    "  ggplot(aes(x = kjonn, y = UforetygdPers, fill = tid)) +\n",
    "  geom_bar(stat = \"identity\", position = \"dodge\") +\n",
    "  scale_y_continuous(labels = scales::comma) "
   ]
  },
  {
   "cell_type": "code",
   "execution_count": null,
   "id": "4055ff5d-82f7-4ad9-93a2-6cf52a24d5a1",
   "metadata": {},
   "outputs": [],
   "source": [
    "# Filter for Kongsvinger\n",
    "kommunedata %>%\n",
    "  filter(region == \"0402\") %>% \n",
    "  ggplot(aes(x = kjonn, y = UforetygdPers, fill = tid)) +\n",
    "  geom_bar(stat = \"identity\", position = \"dodge\") + \n",
    "  scale_y_continuous(labels = scales::comma) \n"
   ]
  },
  {
   "cell_type": "code",
   "execution_count": null,
   "id": "ce8c1c9e-f629-4fbd-a8a9-195ca1a49a1d",
   "metadata": {},
   "outputs": [],
   "source": [
    "#### Punktdiagram ####\n",
    "kommunedata %>%\n",
    "  ggplot(aes(x = folkemengde, y = bruttoinnt)) + \n",
    "  geom_point() + \n",
    "  scale_y_continuous(labels = scales::comma) +\n",
    "  scale_x_continuous(labels = scales::comma) "
   ]
  },
  {
   "cell_type": "code",
   "execution_count": null,
   "id": "e58786b8-329b-444a-9432-db6c01bf1922",
   "metadata": {},
   "outputs": [],
   "source": [
    "# Filter for kun kommune-nivå data\n",
    "kommunedata %>%\n",
    "  filter(region_type == \"kommune\") %>%\n",
    "  ggplot(aes(x = folkemengde, y = bruttoinnt)) + \n",
    "  geom_point() + \n",
    "  scale_y_continuous(labels = scales::comma) +\n",
    "  scale_x_continuous(labels = scales::comma) "
   ]
  },
  {
   "cell_type": "code",
   "execution_count": null,
   "id": "dd344255-a2f0-4bcb-b663-2e5a175527f0",
   "metadata": {},
   "outputs": [],
   "source": [
    "# Legg til regresjonslinje med geom_smotth\n",
    "kommunedata %>%\n",
    "  filter(region_type == \"kommune\") %>%\n",
    "  ggplot(aes(x = folkemengde, y = bruttoinnt)) + \n",
    "  geom_point() + \n",
    "  scale_y_continuous(labels = scales::comma) +\n",
    "  scale_x_continuous(labels = scales::comma) +\n",
    "  geom_smooth(method = \"lm\")"
   ]
  },
  {
   "cell_type": "code",
   "execution_count": null,
   "id": "395c44b6-89d8-4d82-a754-9546fbc52f76",
   "metadata": {},
   "outputs": [],
   "source": [
    "# Farge etter kjønn\n",
    "kommunedata %>%\n",
    "  filter(region_type == \"kommune\") %>% \n",
    "  ggplot(aes(x = folkemengde, y = bruttoinnt)) + \n",
    "  geom_point(aes(color = kjonn)) +\n",
    "  scale_y_continuous(labels = scales::comma) +\n",
    "  scale_x_continuous(labels = scales::comma)\n"
   ]
  },
  {
   "cell_type": "code",
   "execution_count": null,
   "id": "74260e0f-3737-40b3-9cbb-7a4672a8f7a2",
   "metadata": {},
   "outputs": [],
   "source": [
    "# Gir akser et nytt navn\n",
    "fig <-kommunedata %>%\n",
    "  filter(region_type == \"kommune\") %>% \n",
    "  ggplot(aes(x = folkemengde, y = bruttoinnt)) + \n",
    "  geom_point(aes(color = kjonn)) +\n",
    "  scale_y_continuous(labels = scales::comma, name = \"Brutto inntekt\") +\n",
    "  scale_x_continuous(labels = scales::comma, name = \"Antall personer\")\n",
    "fig"
   ]
  },
  {
   "cell_type": "markdown",
   "id": "039158b8-44c2-4d20-891d-4e277a2e48f7",
   "metadata": {},
   "source": [
    "### Interaktive figurer - Plotly"
   ]
  },
  {
   "cell_type": "code",
   "execution_count": null,
   "id": "dea858b0-6654-4fe5-9327-1b6367bb4d7a",
   "metadata": {},
   "outputs": [],
   "source": [
    "library(plotly)\n",
    "ggplotly(fig)\n"
   ]
  }
 ],
 "metadata": {
  "kernelspec": {
   "display_name": "R",
   "language": "R",
   "name": "ir"
  },
  "language_info": {
   "codemirror_mode": "r",
   "file_extension": ".r",
   "mimetype": "text/x-r-source",
   "name": "R",
   "pygments_lexer": "r",
   "version": "4.2.2"
  }
 },
 "nbformat": 4,
 "nbformat_minor": 5
}
